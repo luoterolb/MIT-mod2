{
  "cells": [
    {
      "cell_type": "markdown",
      "metadata": {
        "id": "view-in-github",
        "colab_type": "text"
      },
      "source": [
        "<a href=\"https://colab.research.google.com/github/luoterolb/MIT-mod2/blob/main/Copia_de_CE_2_4.ipynb\" target=\"_parent\"><img src=\"https://colab.research.google.com/assets/colab-badge.svg\" alt=\"Open In Colab\"/></a>"
      ]
    },
    {
      "cell_type": "markdown",
      "metadata": {
        "id": "kfIQou9UX0Ev"
      },
      "source": [
        "# Caso de Estudio 2.4 - Predicción de salarios II"
      ]
    },
    {
      "cell_type": "markdown",
      "metadata": {
        "id": "-4F9CWywe4P2"
      },
      "source": [
        "Configuración del *notebook*:"
      ]
    },
    {
      "cell_type": "markdown",
      "metadata": {
        "id": "Azi08KciuAmF"
      },
      "source": [
        "Sincronice su cuenta de Google. Para ello, siga el link que aparece en la salida de la siguiente celda una vez ejecutada. Copie el código que le aparece en pantalla e introdúzcalo en la salida de la celda. Una vez vea el mensaje: `Google Drive sincronizado con éxito!` puede continuar ejecutando el resto de celdas."
      ]
    },
    {
      "cell_type": "code",
      "execution_count": null,
      "metadata": {
        "colab": {
          "base_uri": "https://localhost:8080/"
        },
        "id": "jGYcsLShi5Tp",
        "outputId": "098b9317-83d3-4473-f26e-06b5ac88a6d0"
      },
      "outputs": [
        {
          "output_type": "stream",
          "name": "stdout",
          "text": [
            "Google Drive sincronizado con éxito!\n"
          ]
        }
      ],
      "source": [
        "from google.colab import auth\n",
        "auth.authenticate_user()\n",
        "\n",
        "from pydrive.auth import GoogleAuth\n",
        "from pydrive.drive import GoogleDrive\n",
        "from google.colab import auth\n",
        "from oauth2client.client import GoogleCredentials\n",
        "\n",
        "gauth = GoogleAuth()\n",
        "gauth.credentials = GoogleCredentials.get_application_default()\n",
        "drive = GoogleDrive(gauth)\n",
        "data_drop = drive.CreateFile({'id':'1uQj3lEsilNJzwxWNn-PBM4exOUTBDFy7'})\n",
        "data_drop.GetContentFile('wage2015.Rdata')\n",
        "\n",
        "print('Google Drive sincronizado con éxito!')"
      ]
    },
    {
      "cell_type": "code",
      "execution_count": null,
      "metadata": {
        "id": "UF-N5UbBiNyA"
      },
      "outputs": [],
      "source": [
        "%load_ext rpy2.ipython"
      ]
    },
    {
      "cell_type": "markdown",
      "metadata": {
        "id": "87Os_P3CX0Ew"
      },
      "source": [
        "Instalar e importar librerías: (ignorar resultados a no ser que no se muestre la frase: `Librerías instaladas con éxito!`)"
      ]
    },
    {
      "cell_type": "code",
      "execution_count": null,
      "metadata": {
        "colab": {
          "base_uri": "https://localhost:8080/"
        },
        "id": "9TUMSJp7tg_v",
        "outputId": "5e265928-4e81-419b-f2e6-4ec84ef19324"
      },
      "outputs": [
        {
          "output_type": "stream",
          "name": "stderr",
          "text": [
            "R[write to console]: Installing package into ‘/usr/local/lib/R/site-library’\n",
            "(as ‘lib’ is unspecified)\n",
            "\n",
            "R[write to console]: also installing the dependencies ‘iterators’, ‘foreach’, ‘shape’, ‘Rcpp’, ‘RcppEigen’, ‘glmnet’, ‘checkmate’, ‘Formula’\n",
            "\n",
            "\n",
            "R[write to console]: trying URL 'https://cran.rstudio.com/src/contrib/iterators_1.0.14.tar.gz'\n",
            "\n",
            "R[write to console]: Content type 'application/x-gzip'\n",
            "R[write to console]:  length 300266 bytes (293 KB)\n",
            "\n",
            "R[write to console]: =\n",
            "R[write to console]: =\n",
            "R[write to console]: =\n",
            "R[write to console]: =\n",
            "R[write to console]: =\n",
            "R[write to console]: =\n",
            "R[write to console]: =\n",
            "R[write to console]: =\n",
            "R[write to console]: =\n",
            "R[write to console]: =\n",
            "R[write to console]: =\n",
            "R[write to console]: =\n",
            "R[write to console]: =\n",
            "R[write to console]: =\n",
            "R[write to console]: =\n",
            "R[write to console]: =\n",
            "R[write to console]: =\n",
            "R[write to console]: =\n",
            "R[write to console]: =\n",
            "R[write to console]: =\n",
            "R[write to console]: =\n",
            "R[write to console]: =\n",
            "R[write to console]: =\n",
            "R[write to console]: =\n",
            "R[write to console]: =\n",
            "R[write to console]: =\n",
            "R[write to console]: =\n",
            "R[write to console]: =\n",
            "R[write to console]: =\n",
            "R[write to console]: =\n",
            "R[write to console]: =\n",
            "R[write to console]: =\n",
            "R[write to console]: =\n",
            "R[write to console]: =\n",
            "R[write to console]: =\n",
            "R[write to console]: =\n",
            "R[write to console]: =\n",
            "R[write to console]: =\n",
            "R[write to console]: =\n",
            "R[write to console]: =\n",
            "R[write to console]: =\n",
            "R[write to console]: =\n",
            "R[write to console]: =\n",
            "R[write to console]: =\n",
            "R[write to console]: =\n",
            "R[write to console]: =\n",
            "R[write to console]: =\n",
            "R[write to console]: =\n",
            "R[write to console]: =\n",
            "R[write to console]: =\n",
            "R[write to console]: \n",
            "\n",
            "R[write to console]: downloaded 293 KB\n",
            "\n",
            "\n",
            "R[write to console]: trying URL 'https://cran.rstudio.com/src/contrib/foreach_1.5.2.tar.gz'\n",
            "\n",
            "R[write to console]: Content type 'application/x-gzip'\n",
            "R[write to console]:  length 89758 bytes (87 KB)\n",
            "\n",
            "R[write to console]: =\n",
            "R[write to console]: =\n",
            "R[write to console]: =\n",
            "R[write to console]: =\n",
            "R[write to console]: =\n",
            "R[write to console]: =\n",
            "R[write to console]: =\n",
            "R[write to console]: =\n",
            "R[write to console]: =\n",
            "R[write to console]: =\n",
            "R[write to console]: =\n",
            "R[write to console]: =\n",
            "R[write to console]: =\n",
            "R[write to console]: =\n",
            "R[write to console]: =\n",
            "R[write to console]: =\n",
            "R[write to console]: =\n",
            "R[write to console]: =\n",
            "R[write to console]: =\n",
            "R[write to console]: =\n",
            "R[write to console]: =\n",
            "R[write to console]: =\n",
            "R[write to console]: =\n",
            "R[write to console]: =\n",
            "R[write to console]: =\n",
            "R[write to console]: =\n",
            "R[write to console]: =\n",
            "R[write to console]: =\n",
            "R[write to console]: =\n",
            "R[write to console]: =\n",
            "R[write to console]: =\n",
            "R[write to console]: =\n",
            "R[write to console]: =\n",
            "R[write to console]: =\n",
            "R[write to console]: =\n",
            "R[write to console]: =\n",
            "R[write to console]: =\n",
            "R[write to console]: =\n",
            "R[write to console]: =\n",
            "R[write to console]: =\n",
            "R[write to console]: =\n",
            "R[write to console]: =\n",
            "R[write to console]: =\n",
            "R[write to console]: =\n",
            "R[write to console]: =\n",
            "R[write to console]: =\n",
            "R[write to console]: =\n",
            "R[write to console]: =\n",
            "R[write to console]: =\n",
            "R[write to console]: =\n",
            "R[write to console]: \n",
            "\n",
            "R[write to console]: downloaded 87 KB\n",
            "\n",
            "\n",
            "R[write to console]: trying URL 'https://cran.rstudio.com/src/contrib/shape_1.4.6.tar.gz'\n",
            "\n",
            "R[write to console]: Content type 'application/x-gzip'\n",
            "R[write to console]:  length 677262 bytes (661 KB)\n",
            "\n",
            "R[write to console]: =\n",
            "R[write to console]: =\n",
            "R[write to console]: =\n",
            "R[write to console]: =\n",
            "R[write to console]: =\n",
            "R[write to console]: =\n",
            "R[write to console]: =\n",
            "R[write to console]: =\n",
            "R[write to console]: =\n",
            "R[write to console]: =\n",
            "R[write to console]: =\n",
            "R[write to console]: =\n",
            "R[write to console]: =\n",
            "R[write to console]: =\n",
            "R[write to console]: =\n",
            "R[write to console]: =\n",
            "R[write to console]: =\n",
            "R[write to console]: =\n",
            "R[write to console]: =\n",
            "R[write to console]: =\n",
            "R[write to console]: =\n",
            "R[write to console]: =\n",
            "R[write to console]: =\n",
            "R[write to console]: =\n",
            "R[write to console]: =\n",
            "R[write to console]: =\n",
            "R[write to console]: =\n",
            "R[write to console]: =\n",
            "R[write to console]: =\n",
            "R[write to console]: =\n",
            "R[write to console]: =\n",
            "R[write to console]: =\n",
            "R[write to console]: =\n",
            "R[write to console]: =\n",
            "R[write to console]: =\n",
            "R[write to console]: =\n",
            "R[write to console]: =\n",
            "R[write to console]: =\n",
            "R[write to console]: =\n",
            "R[write to console]: =\n",
            "R[write to console]: =\n",
            "R[write to console]: =\n",
            "R[write to console]: =\n",
            "R[write to console]: =\n",
            "R[write to console]: =\n",
            "R[write to console]: =\n",
            "R[write to console]: =\n",
            "R[write to console]: =\n",
            "R[write to console]: =\n",
            "R[write to console]: =\n",
            "R[write to console]: \n",
            "\n",
            "R[write to console]: downloaded 661 KB\n",
            "\n",
            "\n",
            "R[write to console]: trying URL 'https://cran.rstudio.com/src/contrib/Rcpp_1.0.8.3.tar.gz'\n",
            "\n",
            "R[write to console]: Content type 'application/x-gzip'\n",
            "R[write to console]:  length 3086192 bytes (2.9 MB)\n",
            "\n",
            "R[write to console]: =\n",
            "R[write to console]: =\n",
            "R[write to console]: =\n",
            "R[write to console]: =\n",
            "R[write to console]: =\n",
            "R[write to console]: =\n",
            "R[write to console]: =\n",
            "R[write to console]: =\n",
            "R[write to console]: =\n",
            "R[write to console]: =\n",
            "R[write to console]: =\n",
            "R[write to console]: =\n",
            "R[write to console]: =\n",
            "R[write to console]: =\n",
            "R[write to console]: =\n",
            "R[write to console]: =\n",
            "R[write to console]: =\n",
            "R[write to console]: =\n",
            "R[write to console]: =\n",
            "R[write to console]: =\n",
            "R[write to console]: =\n",
            "R[write to console]: =\n",
            "R[write to console]: =\n",
            "R[write to console]: =\n",
            "R[write to console]: =\n",
            "R[write to console]: =\n",
            "R[write to console]: =\n",
            "R[write to console]: =\n",
            "R[write to console]: =\n",
            "R[write to console]: =\n",
            "R[write to console]: =\n",
            "R[write to console]: =\n",
            "R[write to console]: =\n",
            "R[write to console]: =\n",
            "R[write to console]: =\n",
            "R[write to console]: =\n",
            "R[write to console]: =\n",
            "R[write to console]: =\n",
            "R[write to console]: =\n",
            "R[write to console]: =\n",
            "R[write to console]: =\n",
            "R[write to console]: =\n",
            "R[write to console]: =\n",
            "R[write to console]: =\n",
            "R[write to console]: =\n",
            "R[write to console]: =\n",
            "R[write to console]: =\n",
            "R[write to console]: =\n",
            "R[write to console]: =\n",
            "R[write to console]: =\n",
            "R[write to console]: \n",
            "\n",
            "R[write to console]: downloaded 2.9 MB\n",
            "\n",
            "\n",
            "R[write to console]: trying URL 'https://cran.rstudio.com/src/contrib/RcppEigen_0.3.3.9.2.tar.gz'\n",
            "\n",
            "R[write to console]: Content type 'application/x-gzip'\n",
            "R[write to console]:  length 1476004 bytes (1.4 MB)\n",
            "\n",
            "R[write to console]: =\n",
            "R[write to console]: =\n",
            "R[write to console]: =\n",
            "R[write to console]: =\n",
            "R[write to console]: =\n",
            "R[write to console]: =\n",
            "R[write to console]: =\n",
            "R[write to console]: =\n",
            "R[write to console]: =\n",
            "R[write to console]: =\n",
            "R[write to console]: =\n",
            "R[write to console]: =\n",
            "R[write to console]: =\n",
            "R[write to console]: =\n",
            "R[write to console]: =\n",
            "R[write to console]: =\n",
            "R[write to console]: =\n",
            "R[write to console]: =\n",
            "R[write to console]: =\n",
            "R[write to console]: =\n",
            "R[write to console]: =\n",
            "R[write to console]: =\n",
            "R[write to console]: =\n",
            "R[write to console]: =\n",
            "R[write to console]: =\n",
            "R[write to console]: =\n",
            "R[write to console]: =\n",
            "R[write to console]: =\n",
            "R[write to console]: =\n",
            "R[write to console]: =\n",
            "R[write to console]: =\n",
            "R[write to console]: =\n",
            "R[write to console]: =\n",
            "R[write to console]: =\n",
            "R[write to console]: =\n",
            "R[write to console]: =\n",
            "R[write to console]: =\n",
            "R[write to console]: =\n",
            "R[write to console]: =\n",
            "R[write to console]: =\n",
            "R[write to console]: =\n",
            "R[write to console]: =\n",
            "R[write to console]: =\n",
            "R[write to console]: =\n",
            "R[write to console]: =\n",
            "R[write to console]: =\n",
            "R[write to console]: =\n",
            "R[write to console]: =\n",
            "R[write to console]: =\n",
            "R[write to console]: =\n",
            "R[write to console]: \n",
            "\n",
            "R[write to console]: downloaded 1.4 MB\n",
            "\n",
            "\n",
            "R[write to console]: trying URL 'https://cran.rstudio.com/src/contrib/glmnet_4.1-4.tar.gz'\n",
            "\n",
            "R[write to console]: Content type 'application/x-gzip'\n",
            "R[write to console]:  length 2548455 bytes (2.4 MB)\n",
            "\n",
            "R[write to console]: =\n",
            "R[write to console]: =\n",
            "R[write to console]: =\n",
            "R[write to console]: =\n",
            "R[write to console]: =\n",
            "R[write to console]: =\n",
            "R[write to console]: =\n",
            "R[write to console]: =\n",
            "R[write to console]: =\n",
            "R[write to console]: =\n",
            "R[write to console]: =\n",
            "R[write to console]: =\n",
            "R[write to console]: =\n",
            "R[write to console]: =\n",
            "R[write to console]: =\n",
            "R[write to console]: =\n",
            "R[write to console]: =\n",
            "R[write to console]: =\n",
            "R[write to console]: =\n",
            "R[write to console]: =\n",
            "R[write to console]: =\n",
            "R[write to console]: =\n",
            "R[write to console]: =\n",
            "R[write to console]: =\n",
            "R[write to console]: =\n",
            "R[write to console]: =\n",
            "R[write to console]: =\n",
            "R[write to console]: =\n",
            "R[write to console]: =\n",
            "R[write to console]: =\n",
            "R[write to console]: =\n",
            "R[write to console]: =\n",
            "R[write to console]: =\n",
            "R[write to console]: =\n",
            "R[write to console]: =\n",
            "R[write to console]: =\n",
            "R[write to console]: =\n",
            "R[write to console]: =\n",
            "R[write to console]: =\n",
            "R[write to console]: =\n",
            "R[write to console]: =\n",
            "R[write to console]: =\n",
            "R[write to console]: =\n",
            "R[write to console]: =\n",
            "R[write to console]: =\n",
            "R[write to console]: =\n",
            "R[write to console]: =\n",
            "R[write to console]: =\n",
            "R[write to console]: =\n",
            "R[write to console]: =\n",
            "R[write to console]: \n",
            "\n",
            "R[write to console]: downloaded 2.4 MB\n",
            "\n",
            "\n",
            "R[write to console]: trying URL 'https://cran.rstudio.com/src/contrib/checkmate_2.1.0.tar.gz'\n",
            "\n",
            "R[write to console]: Content type 'application/x-gzip'\n",
            "R[write to console]:  length 170034 bytes (166 KB)\n",
            "\n",
            "R[write to console]: =\n",
            "R[write to console]: =\n",
            "R[write to console]: =\n",
            "R[write to console]: =\n",
            "R[write to console]: =\n",
            "R[write to console]: =\n",
            "R[write to console]: =\n",
            "R[write to console]: =\n",
            "R[write to console]: =\n",
            "R[write to console]: =\n",
            "R[write to console]: =\n",
            "R[write to console]: =\n",
            "R[write to console]: =\n",
            "R[write to console]: =\n",
            "R[write to console]: =\n",
            "R[write to console]: =\n",
            "R[write to console]: =\n",
            "R[write to console]: =\n",
            "R[write to console]: =\n",
            "R[write to console]: =\n",
            "R[write to console]: =\n",
            "R[write to console]: =\n",
            "R[write to console]: =\n",
            "R[write to console]: =\n",
            "R[write to console]: =\n",
            "R[write to console]: =\n",
            "R[write to console]: =\n",
            "R[write to console]: =\n",
            "R[write to console]: =\n",
            "R[write to console]: =\n",
            "R[write to console]: =\n",
            "R[write to console]: =\n",
            "R[write to console]: =\n",
            "R[write to console]: =\n",
            "R[write to console]: =\n",
            "R[write to console]: =\n",
            "R[write to console]: =\n",
            "R[write to console]: =\n",
            "R[write to console]: =\n",
            "R[write to console]: =\n",
            "R[write to console]: =\n",
            "R[write to console]: =\n",
            "R[write to console]: =\n",
            "R[write to console]: =\n",
            "R[write to console]: =\n",
            "R[write to console]: =\n",
            "R[write to console]: =\n",
            "R[write to console]: =\n",
            "R[write to console]: =\n",
            "R[write to console]: =\n",
            "R[write to console]: \n",
            "\n",
            "R[write to console]: downloaded 166 KB\n",
            "\n",
            "\n",
            "R[write to console]: trying URL 'https://cran.rstudio.com/src/contrib/Formula_1.2-4.tar.gz'\n",
            "\n",
            "R[write to console]: Content type 'application/x-gzip'\n",
            "R[write to console]:  length 164214 bytes (160 KB)\n",
            "\n",
            "R[write to console]: =\n",
            "R[write to console]: =\n",
            "R[write to console]: =\n",
            "R[write to console]: =\n",
            "R[write to console]: =\n",
            "R[write to console]: =\n",
            "R[write to console]: =\n",
            "R[write to console]: =\n",
            "R[write to console]: =\n",
            "R[write to console]: =\n",
            "R[write to console]: =\n",
            "R[write to console]: =\n",
            "R[write to console]: =\n",
            "R[write to console]: =\n",
            "R[write to console]: =\n",
            "R[write to console]: =\n",
            "R[write to console]: =\n",
            "R[write to console]: =\n",
            "R[write to console]: =\n",
            "R[write to console]: =\n",
            "R[write to console]: =\n",
            "R[write to console]: =\n",
            "R[write to console]: =\n",
            "R[write to console]: =\n",
            "R[write to console]: =\n",
            "R[write to console]: =\n",
            "R[write to console]: =\n",
            "R[write to console]: =\n",
            "R[write to console]: =\n",
            "R[write to console]: =\n",
            "R[write to console]: =\n",
            "R[write to console]: =\n",
            "R[write to console]: =\n",
            "R[write to console]: =\n",
            "R[write to console]: =\n",
            "R[write to console]: =\n",
            "R[write to console]: =\n",
            "R[write to console]: =\n",
            "R[write to console]: =\n",
            "R[write to console]: =\n",
            "R[write to console]: =\n",
            "R[write to console]: =\n",
            "R[write to console]: =\n",
            "R[write to console]: =\n",
            "R[write to console]: =\n",
            "R[write to console]: =\n",
            "R[write to console]: =\n",
            "R[write to console]: =\n",
            "R[write to console]: =\n",
            "R[write to console]: =\n",
            "R[write to console]: \n",
            "\n",
            "R[write to console]: downloaded 160 KB\n",
            "\n",
            "\n",
            "R[write to console]: trying URL 'https://cran.rstudio.com/src/contrib/hdm_0.3.1.tar.gz'\n",
            "\n",
            "R[write to console]: Content type 'application/x-gzip'\n",
            "R[write to console]:  length 1414669 bytes (1.3 MB)\n",
            "\n",
            "R[write to console]: =\n",
            "R[write to console]: =\n",
            "R[write to console]: =\n",
            "R[write to console]: =\n",
            "R[write to console]: =\n",
            "R[write to console]: =\n",
            "R[write to console]: =\n",
            "R[write to console]: =\n",
            "R[write to console]: =\n",
            "R[write to console]: =\n",
            "R[write to console]: =\n",
            "R[write to console]: =\n",
            "R[write to console]: =\n",
            "R[write to console]: =\n",
            "R[write to console]: =\n",
            "R[write to console]: =\n",
            "R[write to console]: =\n",
            "R[write to console]: =\n",
            "R[write to console]: =\n",
            "R[write to console]: =\n",
            "R[write to console]: =\n",
            "R[write to console]: =\n",
            "R[write to console]: =\n",
            "R[write to console]: =\n",
            "R[write to console]: =\n",
            "R[write to console]: =\n",
            "R[write to console]: =\n",
            "R[write to console]: =\n",
            "R[write to console]: =\n",
            "R[write to console]: =\n",
            "R[write to console]: =\n",
            "R[write to console]: =\n",
            "R[write to console]: =\n",
            "R[write to console]: =\n",
            "R[write to console]: =\n",
            "R[write to console]: =\n",
            "R[write to console]: =\n",
            "R[write to console]: =\n",
            "R[write to console]: =\n",
            "R[write to console]: =\n",
            "R[write to console]: =\n",
            "R[write to console]: =\n",
            "R[write to console]: =\n",
            "R[write to console]: =\n",
            "R[write to console]: =\n",
            "R[write to console]: =\n",
            "R[write to console]: =\n",
            "R[write to console]: =\n",
            "R[write to console]: =\n",
            "R[write to console]: =\n",
            "R[write to console]: \n",
            "\n",
            "R[write to console]: downloaded 1.3 MB\n",
            "\n",
            "\n",
            "R[write to console]: \n",
            "\n",
            "R[write to console]: \n",
            "R[write to console]: The downloaded source packages are in\n",
            "\t‘/tmp/RtmpYCnXSl/downloaded_packages’\n",
            "R[write to console]: \n",
            "R[write to console]: \n",
            "\n",
            "R[write to console]: Installing package into ‘/usr/local/lib/R/site-library’\n",
            "(as ‘lib’ is unspecified)\n",
            "\n",
            "R[write to console]: trying URL 'https://cran.rstudio.com/src/contrib/randomForest_4.7-1.1.tar.gz'\n",
            "\n",
            "R[write to console]: Content type 'application/x-gzip'\n",
            "R[write to console]:  length 80886 bytes (78 KB)\n",
            "\n",
            "R[write to console]: =\n",
            "R[write to console]: =\n",
            "R[write to console]: =\n",
            "R[write to console]: =\n",
            "R[write to console]: =\n",
            "R[write to console]: =\n",
            "R[write to console]: =\n",
            "R[write to console]: =\n",
            "R[write to console]: =\n",
            "R[write to console]: =\n",
            "R[write to console]: =\n",
            "R[write to console]: =\n",
            "R[write to console]: =\n",
            "R[write to console]: =\n",
            "R[write to console]: =\n",
            "R[write to console]: =\n",
            "R[write to console]: =\n",
            "R[write to console]: =\n",
            "R[write to console]: =\n",
            "R[write to console]: =\n",
            "R[write to console]: =\n",
            "R[write to console]: =\n",
            "R[write to console]: =\n",
            "R[write to console]: =\n",
            "R[write to console]: =\n",
            "R[write to console]: =\n",
            "R[write to console]: =\n",
            "R[write to console]: =\n",
            "R[write to console]: =\n",
            "R[write to console]: =\n",
            "R[write to console]: =\n",
            "R[write to console]: =\n",
            "R[write to console]: =\n",
            "R[write to console]: =\n",
            "R[write to console]: =\n",
            "R[write to console]: =\n",
            "R[write to console]: =\n",
            "R[write to console]: =\n",
            "R[write to console]: =\n",
            "R[write to console]: =\n",
            "R[write to console]: =\n",
            "R[write to console]: =\n",
            "R[write to console]: =\n",
            "R[write to console]: =\n",
            "R[write to console]: =\n",
            "R[write to console]: =\n",
            "R[write to console]: =\n",
            "R[write to console]: =\n",
            "R[write to console]: =\n",
            "R[write to console]: =\n",
            "R[write to console]: \n",
            "\n",
            "R[write to console]: downloaded 78 KB\n",
            "\n",
            "\n",
            "R[write to console]: \n",
            "\n",
            "R[write to console]: \n",
            "R[write to console]: The downloaded source packages are in\n",
            "\t‘/tmp/RtmpYCnXSl/downloaded_packages’\n",
            "R[write to console]: \n",
            "R[write to console]: \n",
            "\n",
            "R[write to console]: Installing package into ‘/usr/local/lib/R/site-library’\n",
            "(as ‘lib’ is unspecified)\n",
            "\n",
            "R[write to console]: trying URL 'https://cran.rstudio.com/src/contrib/glmnet_4.1-4.tar.gz'\n",
            "\n",
            "R[write to console]: Content type 'application/x-gzip'\n",
            "R[write to console]:  length 2548455 bytes (2.4 MB)\n",
            "\n",
            "R[write to console]: =\n",
            "R[write to console]: =\n",
            "R[write to console]: =\n",
            "R[write to console]: =\n",
            "R[write to console]: =\n",
            "R[write to console]: =\n",
            "R[write to console]: =\n",
            "R[write to console]: =\n",
            "R[write to console]: =\n",
            "R[write to console]: =\n",
            "R[write to console]: =\n",
            "R[write to console]: =\n",
            "R[write to console]: =\n",
            "R[write to console]: =\n",
            "R[write to console]: =\n",
            "R[write to console]: =\n",
            "R[write to console]: =\n",
            "R[write to console]: =\n",
            "R[write to console]: =\n",
            "R[write to console]: =\n",
            "R[write to console]: =\n",
            "R[write to console]: =\n",
            "R[write to console]: =\n",
            "R[write to console]: =\n",
            "R[write to console]: =\n",
            "R[write to console]: =\n",
            "R[write to console]: =\n",
            "R[write to console]: =\n",
            "R[write to console]: =\n",
            "R[write to console]: =\n",
            "R[write to console]: =\n",
            "R[write to console]: =\n",
            "R[write to console]: =\n",
            "R[write to console]: =\n",
            "R[write to console]: =\n",
            "R[write to console]: =\n",
            "R[write to console]: =\n",
            "R[write to console]: =\n",
            "R[write to console]: =\n",
            "R[write to console]: =\n",
            "R[write to console]: =\n",
            "R[write to console]: =\n",
            "R[write to console]: =\n",
            "R[write to console]: =\n",
            "R[write to console]: =\n",
            "R[write to console]: =\n",
            "R[write to console]: =\n",
            "R[write to console]: =\n",
            "R[write to console]: =\n",
            "R[write to console]: =\n",
            "R[write to console]: \n",
            "\n",
            "R[write to console]: downloaded 2.4 MB\n",
            "\n",
            "\n",
            "R[write to console]: \n",
            "\n",
            "R[write to console]: \n",
            "R[write to console]: The downloaded source packages are in\n",
            "\t‘/tmp/RtmpYCnXSl/downloaded_packages’\n",
            "R[write to console]: \n",
            "R[write to console]: \n",
            "\n",
            "R[write to console]: Installing package into ‘/usr/local/lib/R/site-library’\n",
            "(as ‘lib’ is unspecified)\n",
            "\n",
            "R[write to console]: trying URL 'https://cran.rstudio.com/src/contrib/nnet_7.3-17.tar.gz'\n",
            "\n",
            "R[write to console]: Content type 'application/x-gzip'\n",
            "R[write to console]:  length 29099 bytes (28 KB)\n",
            "\n",
            "R[write to console]: =\n",
            "R[write to console]: =\n",
            "R[write to console]: =\n",
            "R[write to console]: =\n",
            "R[write to console]: =\n",
            "R[write to console]: =\n",
            "R[write to console]: =\n",
            "R[write to console]: =\n",
            "R[write to console]: =\n",
            "R[write to console]: =\n",
            "R[write to console]: =\n",
            "R[write to console]: =\n",
            "R[write to console]: =\n",
            "R[write to console]: =\n",
            "R[write to console]: =\n",
            "R[write to console]: =\n",
            "R[write to console]: =\n",
            "R[write to console]: =\n",
            "R[write to console]: =\n",
            "R[write to console]: =\n",
            "R[write to console]: =\n",
            "R[write to console]: =\n",
            "R[write to console]: =\n",
            "R[write to console]: =\n",
            "R[write to console]: =\n",
            "R[write to console]: =\n",
            "R[write to console]: =\n",
            "R[write to console]: =\n",
            "R[write to console]: =\n",
            "R[write to console]: =\n",
            "R[write to console]: =\n",
            "R[write to console]: =\n",
            "R[write to console]: =\n",
            "R[write to console]: =\n",
            "R[write to console]: =\n",
            "R[write to console]: =\n",
            "R[write to console]: =\n",
            "R[write to console]: =\n",
            "R[write to console]: =\n",
            "R[write to console]: =\n",
            "R[write to console]: =\n",
            "R[write to console]: =\n",
            "R[write to console]: =\n",
            "R[write to console]: =\n",
            "R[write to console]: =\n",
            "R[write to console]: =\n",
            "R[write to console]: =\n",
            "R[write to console]: =\n",
            "R[write to console]: =\n",
            "R[write to console]: =\n",
            "R[write to console]: \n",
            "\n",
            "R[write to console]: downloaded 28 KB\n",
            "\n",
            "\n",
            "R[write to console]: \n",
            "\n",
            "R[write to console]: \n",
            "R[write to console]: The downloaded source packages are in\n",
            "\t‘/tmp/RtmpYCnXSl/downloaded_packages’\n",
            "R[write to console]: \n",
            "R[write to console]: \n",
            "\n",
            "R[write to console]: Installing package into ‘/usr/local/lib/R/site-library’\n",
            "(as ‘lib’ is unspecified)\n",
            "\n",
            "R[write to console]: trying URL 'https://cran.rstudio.com/src/contrib/rpart_4.1.16.tar.gz'\n",
            "\n",
            "R[write to console]: Content type 'application/x-gzip'\n",
            "R[write to console]:  length 859107 bytes (838 KB)\n",
            "\n",
            "R[write to console]: =\n",
            "R[write to console]: =\n",
            "R[write to console]: =\n",
            "R[write to console]: =\n",
            "R[write to console]: =\n",
            "R[write to console]: =\n",
            "R[write to console]: =\n",
            "R[write to console]: =\n",
            "R[write to console]: =\n",
            "R[write to console]: =\n",
            "R[write to console]: =\n",
            "R[write to console]: =\n",
            "R[write to console]: =\n",
            "R[write to console]: =\n",
            "R[write to console]: =\n",
            "R[write to console]: =\n",
            "R[write to console]: =\n",
            "R[write to console]: =\n",
            "R[write to console]: =\n",
            "R[write to console]: =\n",
            "R[write to console]: =\n",
            "R[write to console]: =\n",
            "R[write to console]: =\n",
            "R[write to console]: =\n",
            "R[write to console]: =\n",
            "R[write to console]: =\n",
            "R[write to console]: =\n",
            "R[write to console]: =\n",
            "R[write to console]: =\n",
            "R[write to console]: =\n",
            "R[write to console]: =\n",
            "R[write to console]: =\n",
            "R[write to console]: =\n",
            "R[write to console]: =\n",
            "R[write to console]: =\n",
            "R[write to console]: =\n",
            "R[write to console]: =\n",
            "R[write to console]: =\n",
            "R[write to console]: =\n",
            "R[write to console]: =\n",
            "R[write to console]: =\n",
            "R[write to console]: =\n",
            "R[write to console]: =\n",
            "R[write to console]: =\n",
            "R[write to console]: =\n",
            "R[write to console]: =\n",
            "R[write to console]: =\n",
            "R[write to console]: =\n",
            "R[write to console]: =\n",
            "R[write to console]: =\n",
            "R[write to console]: \n",
            "\n",
            "R[write to console]: downloaded 838 KB\n",
            "\n",
            "\n",
            "R[write to console]: \n",
            "\n",
            "R[write to console]: \n",
            "R[write to console]: The downloaded source packages are in\n",
            "\t‘/tmp/RtmpYCnXSl/downloaded_packages’\n",
            "R[write to console]: \n",
            "R[write to console]: \n",
            "\n",
            "R[write to console]: Installing package into ‘/usr/local/lib/R/site-library’\n",
            "(as ‘lib’ is unspecified)\n",
            "\n",
            "R[write to console]: trying URL 'https://cran.rstudio.com/src/contrib/gbm_2.1.8.tar.gz'\n",
            "\n",
            "R[write to console]: Content type 'application/x-gzip'\n",
            "R[write to console]:  length 444329 bytes (433 KB)\n",
            "\n",
            "R[write to console]: =\n",
            "R[write to console]: =\n",
            "R[write to console]: =\n",
            "R[write to console]: =\n",
            "R[write to console]: =\n",
            "R[write to console]: =\n",
            "R[write to console]: =\n",
            "R[write to console]: =\n",
            "R[write to console]: =\n",
            "R[write to console]: =\n",
            "R[write to console]: =\n",
            "R[write to console]: =\n",
            "R[write to console]: =\n",
            "R[write to console]: =\n",
            "R[write to console]: =\n",
            "R[write to console]: =\n",
            "R[write to console]: =\n",
            "R[write to console]: =\n",
            "R[write to console]: =\n",
            "R[write to console]: =\n",
            "R[write to console]: =\n",
            "R[write to console]: =\n",
            "R[write to console]: =\n",
            "R[write to console]: =\n",
            "R[write to console]: =\n",
            "R[write to console]: =\n",
            "R[write to console]: =\n",
            "R[write to console]: =\n",
            "R[write to console]: =\n",
            "R[write to console]: =\n",
            "R[write to console]: =\n",
            "R[write to console]: =\n",
            "R[write to console]: =\n",
            "R[write to console]: =\n",
            "R[write to console]: =\n",
            "R[write to console]: =\n",
            "R[write to console]: =\n",
            "R[write to console]: =\n",
            "R[write to console]: =\n",
            "R[write to console]: =\n",
            "R[write to console]: =\n",
            "R[write to console]: =\n",
            "R[write to console]: =\n",
            "R[write to console]: =\n",
            "R[write to console]: =\n",
            "R[write to console]: =\n",
            "R[write to console]: =\n",
            "R[write to console]: =\n",
            "R[write to console]: =\n",
            "R[write to console]: =\n",
            "R[write to console]: \n",
            "\n",
            "R[write to console]: downloaded 433 KB\n",
            "\n",
            "\n",
            "R[write to console]: \n",
            "\n",
            "R[write to console]: \n",
            "R[write to console]: The downloaded source packages are in\n",
            "\t‘/tmp/RtmpYCnXSl/downloaded_packages’\n",
            "R[write to console]: \n",
            "R[write to console]: \n",
            "\n",
            "R[write to console]: Installing package into ‘/usr/local/lib/R/site-library’\n",
            "(as ‘lib’ is unspecified)\n",
            "\n",
            "R[write to console]: trying URL 'https://cran.rstudio.com/src/contrib/rpart.plot_3.1.1.tar.gz'\n",
            "\n",
            "R[write to console]: Content type 'application/x-gzip'\n",
            "R[write to console]:  length 672084 bytes (656 KB)\n",
            "\n",
            "R[write to console]: =\n",
            "R[write to console]: =\n",
            "R[write to console]: =\n",
            "R[write to console]: =\n",
            "R[write to console]: =\n",
            "R[write to console]: =\n",
            "R[write to console]: =\n",
            "R[write to console]: =\n",
            "R[write to console]: =\n",
            "R[write to console]: =\n",
            "R[write to console]: =\n",
            "R[write to console]: =\n",
            "R[write to console]: =\n",
            "R[write to console]: =\n",
            "R[write to console]: =\n",
            "R[write to console]: =\n",
            "R[write to console]: =\n",
            "R[write to console]: =\n",
            "R[write to console]: =\n",
            "R[write to console]: =\n",
            "R[write to console]: =\n",
            "R[write to console]: =\n",
            "R[write to console]: =\n",
            "R[write to console]: =\n",
            "R[write to console]: =\n",
            "R[write to console]: =\n",
            "R[write to console]: =\n",
            "R[write to console]: =\n",
            "R[write to console]: =\n",
            "R[write to console]: =\n",
            "R[write to console]: =\n",
            "R[write to console]: =\n",
            "R[write to console]: =\n",
            "R[write to console]: =\n",
            "R[write to console]: =\n",
            "R[write to console]: =\n",
            "R[write to console]: =\n",
            "R[write to console]: =\n",
            "R[write to console]: =\n",
            "R[write to console]: =\n",
            "R[write to console]: =\n",
            "R[write to console]: =\n",
            "R[write to console]: =\n",
            "R[write to console]: =\n",
            "R[write to console]: =\n",
            "R[write to console]: =\n",
            "R[write to console]: =\n",
            "R[write to console]: =\n",
            "R[write to console]: =\n",
            "R[write to console]: =\n",
            "R[write to console]: \n",
            "\n",
            "R[write to console]: downloaded 656 KB\n",
            "\n",
            "\n",
            "R[write to console]: \n",
            "\n",
            "R[write to console]: \n",
            "R[write to console]: The downloaded source packages are in\n",
            "\t‘/tmp/RtmpYCnXSl/downloaded_packages’\n",
            "R[write to console]: \n",
            "R[write to console]: \n",
            "\n"
          ]
        },
        {
          "output_type": "stream",
          "name": "stdout",
          "text": [
            "\n",
            "¡Librerías instaladas con éxito!"
          ]
        }
      ],
      "source": [
        "%%R --noreturn\n",
        "# Instalar librerías\n",
        "install.packages(\"hdm\")\n",
        "install.packages(\"randomForest\")\n",
        "install.packages(\"glmnet\")\n",
        "install.packages(\"nnet\")\n",
        "install.packages(\"rpart\")\n",
        "install.packages(\"gbm\")\n",
        "install.packages(\"rpart.plot\")\n",
        "\n",
        "cat('\\n¡Librerías instaladas con éxito!')"
      ]
    },
    {
      "cell_type": "code",
      "execution_count": null,
      "metadata": {
        "colab": {
          "base_uri": "https://localhost:8080/"
        },
        "id": "yt12j0xYX0Ew",
        "outputId": "1657bc7e-2535-47f6-e153-fdfaafa591cd"
      },
      "outputs": [
        {
          "output_type": "stream",
          "name": "stderr",
          "text": [
            "R[write to console]: randomForest 4.7-1.1\n",
            "\n",
            "R[write to console]: Type rfNews() to see new features/changes/bug fixes.\n",
            "\n",
            "R[write to console]: Loading required package: Matrix\n",
            "\n",
            "R[write to console]: Loaded glmnet 4.1-4\n",
            "\n",
            "R[write to console]: Loaded gbm 2.1.8\n",
            "\n"
          ]
        },
        {
          "output_type": "stream",
          "name": "stdout",
          "text": [
            "\n",
            "¡Librerías importadas con éxito!"
          ]
        }
      ],
      "source": [
        "%%R\n",
        "# Cargar librerías\n",
        "library(hdm) \n",
        "library(randomForest)\n",
        "library(glmnet)\n",
        "library(nnet)\n",
        "options(warn=-1)\n",
        "library(rpart)\n",
        "library(gbm)\n",
        "library(rpart.plot)\n",
        "\n",
        "cat('\\n¡Librerías importadas con éxito!')"
      ]
    },
    {
      "cell_type": "markdown",
      "metadata": {
        "id": "E1ADEthlX0E0"
      },
      "source": [
        "## Datos\n"
      ]
    },
    {
      "cell_type": "code",
      "execution_count": null,
      "metadata": {
        "colab": {
          "background_save": true
        },
        "id": "Zc42B9DWX0E1",
        "scrolled": false,
        "outputId": "750b33a1-9245-4d27-f5a7-75211fbe702b"
      },
      "outputs": [
        {
          "name": "stdout",
          "output_type": "stream",
          "text": [
            "'data.frame':\t12697 obs. of  37 variables:\n",
            " $ wage    : num  9.62 48.08 11.06 11.54 13.94 ...\n",
            " $ lwage   : num  2.26 3.87 2.4 2.45 2.63 ...\n",
            " $ sex     : num  0 1 1 1 0 0 0 0 0 1 ...\n",
            " $ white   : num  1 1 1 1 1 1 0 1 1 1 ...\n",
            " $ black   : num  0 0 0 0 0 0 0 0 0 0 ...\n",
            " $ hisp    : num  0 0 0 0 0 0 0 0 0 0 ...\n",
            " $ shs     : num  0 0 0 0 0 0 0 0 0 0 ...\n",
            " $ hsg     : num  0 0 1 0 0 0 0 0 1 1 ...\n",
            " $ scl     : num  0 0 0 1 0 0 0 0 0 0 ...\n",
            " $ clg     : num  1 1 0 0 0 1 1 1 0 0 ...\n",
            " $ mw      : num  0 0 0 0 0 0 0 0 0 0 ...\n",
            " $ so      : num  0 0 0 0 0 0 0 0 0 0 ...\n",
            " $ we      : num  0 0 0 0 0 0 0 0 0 0 ...\n",
            " $ union   : num  0 0 0 0 0 1 0 0 0 0 ...\n",
            " $ vet     : num  0 0 0 0 0 0 0 0 0 0 ...\n",
            " $ cent    : num  0 0 0 0 0 0 0 0 0 0 ...\n",
            " $ ncent   : num  0 0 0 0 0 0 0 0 0 0 ...\n",
            " $ fam1    : num  0 1 1 1 1 1 1 1 1 1 ...\n",
            " $ fam2    : num  0 0 0 0 0 0 0 0 0 0 ...\n",
            " $ fam3    : num  1 0 0 0 0 0 0 0 0 0 ...\n",
            " $ child   : num  0 0 0 0 0 0 0 0 0 0 ...\n",
            " $ fborn   : num  0 0 0 0 0 0 1 0 0 0 ...\n",
            " $ cit     : num  1 1 1 1 1 1 0 1 1 1 ...\n",
            " $ school  : num  0 1 0 0 1 0 1 1 1 1 ...\n",
            " $ pens    : num  0 0 0 0 0 1 0 0 0 1 ...\n",
            " $ fsize10 : num  0 0 1 1 0 0 0 0 0 0 ...\n",
            " $ fsize100: num  0 0 0 0 0 0 0 0 0 0 ...\n",
            " $ health  : num  1 1 1 1 0 0 1 1 1 1 ...\n",
            " $ age     : num  31 55 38 35 51 46 28 25 62 57 ...\n",
            " $ exp1    : num  7 31 18 13 25 22 4 1 42 37 ...\n",
            " $ exp2    : num  0.49 9.61 3.24 1.69 6.25 ...\n",
            " $ exp3    : num  0.343 29.791 5.832 2.197 15.625 ...\n",
            " $ exp4    : num  0.24 92.35 10.5 2.86 39.06 ...\n",
            " $ occ     : Factor w/ 277 levels \"10\",\"20\",\"40\",..: 114 99 209 203 21 71 61 61 171 176 ...\n",
            " $ occ2    : Factor w/ 22 levels \"1\",\"2\",\"3\",\"4\",..: 11 10 19 18 1 6 5 5 17 17 ...\n",
            " $ ind     : Factor w/ 203 levels \"170\",\"180\",\"370\",..: 171 91 10 1 134 197 145 145 140 107 ...\n",
            " $ ind2    : Factor w/ 23 levels \"1\",\"2\",\"3\",\"4\",..: 18 9 4 1 12 22 14 14 14 9 ...\n",
            "\n",
            "Dimensiones de la base de datos: 12697, 37 \n",
            "\n"
          ]
        }
      ],
      "source": [
        "%%R\n",
        "# Cargar la base de datos\n",
        "load(file=\"wage2015.Rdata\")\n",
        "\n",
        "# Ver las variables de la base de datos\n",
        "class(data)\n",
        "str(data)\n",
        "\n",
        "# Mostrar dimensiones de la base de datos\n",
        "dims  <- dim(data)\n",
        "cat('\\nDimensiones de la base de datos:',toString(dims),'\\n',fill = TRUE)"
      ]
    },
    {
      "cell_type": "markdown",
      "metadata": {
        "id": "ofJ_JV_4X0E3"
      },
      "source": [
        "Separación de los datos en un conjunto de entrenamiento y otro de prueba "
      ]
    },
    {
      "cell_type": "code",
      "execution_count": null,
      "metadata": {
        "colab": {
          "background_save": true
        },
        "id": "MKuodLWJX0E4"
      },
      "outputs": [],
      "source": [
        "%%R\n",
        "# Generador de números aleatorios\n",
        "set.seed(1)\n",
        "# Conjunto de índices de entrenamiento\n",
        "training <- sample(nrow(data), nrow(data)*(1/2), replace=FALSE)\n",
        "# Conjunto de entrenamiento\n",
        "datause <- data[training,]\n",
        "# Conjunto de prueba\n",
        "dataout <- data[-training,]"
      ]
    },
    {
      "cell_type": "markdown",
      "metadata": {
        "id": "tO0wsyjnX0E6"
      },
      "source": [
        "## Metodología"
      ]
    },
    {
      "cell_type": "markdown",
      "metadata": {
        "id": "0K6t-o3UX0E7"
      },
      "source": [
        "### Definición de modelos (básico y flexible)"
      ]
    },
    {
      "cell_type": "code",
      "execution_count": null,
      "metadata": {
        "colab": {
          "background_save": true
        },
        "id": "TbGlU-KPX0E7"
      },
      "outputs": [],
      "source": [
        "%%R\n",
        "# Variables de control lineales. Usar estas variables de control para métodos básasados en árboles de regresión\n",
        "x <- \"sex+white+black+hisp+shs+hsg+scl+clg+mw+so+we+union+vet+cent+ncent+fam1+fam2+fam3+child+\\\n",
        "fborn+cit+school+pens+fsize10+fsize100+health+age+exp1+occ2+ind2\"\n",
        "\n",
        "# Variables de control cuadráticas (especificación flexible). Usar estas variables de control para métodos lineales\n",
        "xL <- \"(sex+white+black+hisp+shs+hsg+scl+clg+mw+so+we+union+vet+cent+ncent+fam1+fam2+fam3+child+\\\n",
        "fborn+cit+school+pens+fsize10+fsize100+health+age+exp1+exp2+exp3+exp4+occ2+ind2)^2\"\n",
        "\n",
        "# variable de resultado: log wage (logaritmo del salario)\n",
        "y  <- \"lwage\"\n",
        "\n",
        "# Modelo lineal: Especificación cuadrática\n",
        "formL <- as.formula(paste(y, \"~\", xL))\n",
        "# Modelo lineal: Especificación lineal\n",
        "form  <- as.formula(paste(y, \"~\", x))"
      ]
    },
    {
      "cell_type": "code",
      "execution_count": null,
      "metadata": {
        "colab": {
          "background_save": true
        },
        "id": "6Xvmtz_5X0E-"
      },
      "outputs": [],
      "source": [
        "%%R\n",
        "# \"-1\" : no incluir la constante en el modelo\n",
        "# x,y TRUE: devolver la matriz de covariables/vector de resultados\n",
        "# Ejecute estas regresiones lineales para usar sus variables de resultado (fituse$y) y covariables (fituse$y) \n",
        "# un truco para extraer las variables x e y de una fórmula\n",
        "\n",
        "fituseL    <- lm(paste(y, \"~\", xL, \"-1\"), datause, x=TRUE, y=TRUE)  \n",
        "fitoutL    <- lm(paste(y, \"~\", xL, \"-1\"), dataout, x=TRUE, y=TRUE)  \n",
        "fituse     <- lm(paste(y, \"~\", x,  \"-1\"), datause, x=TRUE, y=TRUE)  \n",
        "fitout     <- lm(paste(y, \"~\", x,  \"-1\"), dataout, x=TRUE, y=TRUE)  "
      ]
    },
    {
      "cell_type": "markdown",
      "metadata": {
        "id": "SzUouGe_X0FC"
      },
      "source": [
        "### Entrenamiento con métodos lineales y no lineales"
      ]
    },
    {
      "cell_type": "code",
      "execution_count": null,
      "metadata": {
        "colab": {
          "background_save": true
        },
        "id": "u6fjhP3hnI78",
        "outputId": "d3fac8e5-c6ac-4d90-bb4d-7f7e67e5cc90"
      },
      "outputs": [
        {
          "name": "stdout",
          "output_type": "stream",
          "text": [
            "[1] \"Tiempo de entrenamiento OLS: 0.03 s\"\n"
          ]
        }
      ],
      "source": [
        "%%R\n",
        "start_time <- Sys.time()\n",
        "\n",
        "# Regresión lineal modelo simple\n",
        "fit.lm      <- lm(form, datause)  \n",
        "\n",
        "end_time <- Sys.time()\n",
        "sprintf('Tiempo de entrenamiento OLS: %.2f s',difftime(end_time,start_time,units = 'secs'))"
      ]
    },
    {
      "cell_type": "code",
      "execution_count": null,
      "metadata": {
        "colab": {
          "background_save": true
        },
        "id": "kFTIB3Qq-pV8",
        "outputId": "cd9e012a-179e-47cc-8122-7c45ad5d9527"
      },
      "outputs": [
        {
          "name": "stdout",
          "output_type": "stream",
          "text": [
            "[1] \"Tiempo de entrenamiento OLS (flexible): 20.49 s\"\n"
          ]
        }
      ],
      "source": [
        "%%R\n",
        "start_time <- Sys.time()\n",
        "\n",
        "# Regresión lineal modelo flexible\n",
        "fit.lm2     <- lm(formL, datause)  \n",
        "\n",
        "end_time <- Sys.time()\n",
        "sprintf('Tiempo de entrenamiento OLS (flexible): %.2f s',difftime(end_time,start_time,units = 'secs'))"
      ]
    },
    {
      "cell_type": "code",
      "execution_count": null,
      "metadata": {
        "colab": {
          "background_save": true
        },
        "id": "zM2rv3Au6-5U",
        "outputId": "2dad6205-b1ea-4160-9183-c99ec8c2098f"
      },
      "outputs": [
        {
          "name": "stdout",
          "output_type": "stream",
          "text": [
            "[1] \"Tiempo de entrenamiento Lasso: 0.39 s\"\n"
          ]
        }
      ],
      "source": [
        "%%R\n",
        "start_time <- Sys.time()\n",
        "\n",
        "#Lasso\n",
        "fit.rlasso   <- rlasso(form, datause, post=FALSE)\n",
        "\n",
        "end_time <- Sys.time()\n",
        "sprintf('Tiempo de entrenamiento Lasso: %.2f s',difftime(end_time,start_time,units = 'secs'))"
      ]
    },
    {
      "cell_type": "code",
      "execution_count": null,
      "metadata": {
        "colab": {
          "background_save": true
        },
        "id": "khWAE34W6fap",
        "outputId": "0339ab8b-31bc-438b-aaa4-03b51fdb9985"
      },
      "outputs": [
        {
          "name": "stdout",
          "output_type": "stream",
          "text": [
            "[1] \"Tiempo de entrenamiento Post-Lasso: 0.32 s\"\n"
          ]
        }
      ],
      "source": [
        "%%R\n",
        "start_time <- Sys.time()\n",
        "\n",
        "#Post-Lasso\n",
        "fit.rlasso2  <- rlasso(form, datause, post=TRUE)\n",
        "\n",
        "end_time <- Sys.time()\n",
        "sprintf('Tiempo de entrenamiento Post-Lasso: %.2f s',difftime(end_time,start_time,units = 'secs'))"
      ]
    },
    {
      "cell_type": "markdown",
      "metadata": {
        "id": "3tXjkFeaBr-I"
      },
      "source": [
        "Configuración de regresiones penalizadas:\n",
        "\n",
        "* alpha=1: norma 1 (Lasso), alpha=0: norma 2 (Ridge)\n",
        "* alpha = 0.5 : ambas penalizaciones (Elastic Net)\n",
        "\n",
        "* post = FALSE: sin volver a ejecutar mínimos cuadrados en las variables seleccionadas"
      ]
    },
    {
      "cell_type": "code",
      "execution_count": null,
      "metadata": {
        "colab": {
          "background_save": true
        },
        "id": "pF6pDJ6RAv4j",
        "outputId": "96e74e91-d613-4a4e-d0b9-b53e5e34281c"
      },
      "outputs": [
        {
          "name": "stdout",
          "output_type": "stream",
          "text": [
            "[1] \"Tiempo de entrenamiento Lasso con VC: 0.50 s\"\n"
          ]
        }
      ],
      "source": [
        "%%R\n",
        "start_time <- Sys.time()\n",
        "\n",
        "#Lasso con Validación Cruzada (VC)\n",
        "fit.lasso    <- cv.glmnet(fituse$x, fituse$y, family=\"gaussian\", alpha=1)\n",
        "\n",
        "end_time <- Sys.time()\n",
        "sprintf('Tiempo de entrenamiento Lasso con VC: %.2f s',difftime(end_time,start_time,units = 'secs'))"
      ]
    },
    {
      "cell_type": "code",
      "execution_count": null,
      "metadata": {
        "colab": {
          "background_save": true
        },
        "id": "r4FlM7tmAv60",
        "outputId": "d433a753-212f-4797-ee56-7ff6d0a4b251"
      },
      "outputs": [
        {
          "name": "stdout",
          "output_type": "stream",
          "text": [
            "[1] \"Tiempo de entrenamiento Ridge con VC: 0.40 s\"\n"
          ]
        }
      ],
      "source": [
        "%%R\n",
        "start_time <- Sys.time()\n",
        "\n",
        "#Ridge con VC\n",
        "fit.ridge    <- cv.glmnet(fituse$x, fituse$y, family=\"gaussian\", alpha=0)\n",
        "\n",
        "end_time <- Sys.time()\n",
        "sprintf('Tiempo de entrenamiento Ridge con VC: %.2f s',difftime(end_time,start_time,units = 'secs'))"
      ]
    },
    {
      "cell_type": "code",
      "execution_count": null,
      "metadata": {
        "colab": {
          "background_save": true
        },
        "id": "H4TtktZxAv_o",
        "outputId": "4b73d21f-5a47-423c-f145-d8038ace0c5b"
      },
      "outputs": [
        {
          "name": "stdout",
          "output_type": "stream",
          "text": [
            "[1] \"Tiempo de entrenamiento Elastic Net con VC: 0.37 s\"\n"
          ]
        }
      ],
      "source": [
        "%%R\n",
        "start_time <- Sys.time()\n",
        "\n",
        "#Elastic Net con VC\n",
        "fit.elnet    <- cv.glmnet(fituse$x, fituse$y, family=\"gaussian\", alpha=.5)\n",
        "\n",
        "end_time <- Sys.time()\n",
        "sprintf('Tiempo de entrenamiento Elastic Net con VC: %.2f s',difftime(end_time,start_time,units = 'secs'))"
      ]
    },
    {
      "cell_type": "markdown",
      "metadata": {
        "id": "Cf0XKd2YFyBX"
      },
      "source": [
        "ATENCIÓN: la siguiente celda podría tardar unos 4 minutos en ejecutarse"
      ]
    },
    {
      "cell_type": "code",
      "execution_count": null,
      "metadata": {
        "colab": {
          "background_save": true
        },
        "id": "vrAxsHxeAwB0",
        "outputId": "3f1b5997-b0c8-4f59-9b25-828a91be9c9d"
      },
      "outputs": [
        {
          "name": "stdout",
          "output_type": "stream",
          "text": [
            "[1] \"Tiempo de entrenamiento Lasso (flexible): 3.94 min\"\n"
          ]
        }
      ],
      "source": [
        "%%R\n",
        "start_time <- Sys.time()\n",
        "\n",
        "#Lasso (flexible)\n",
        "fit.rlassoL  <- rlasso(formL, datause, post=FALSE)\n",
        "\n",
        "end_time <- Sys.time()\n",
        "sprintf('Tiempo de entrenamiento Lasso (flexible): %.2f min',difftime(end_time,start_time,units = 'mins'))"
      ]
    },
    {
      "cell_type": "markdown",
      "metadata": {
        "id": "mBkH9NzDF_kc"
      },
      "source": [
        "ATENCIÓN: la siguiente celda podría tardar unos 2 minutos en ejecutarse"
      ]
    },
    {
      "cell_type": "code",
      "execution_count": null,
      "metadata": {
        "colab": {
          "background_save": true
        },
        "id": "vZbEFycfAwD_",
        "outputId": "11aaa038-fa74-4f08-cbd1-271e3cf1fbde"
      },
      "outputs": [
        {
          "name": "stdout",
          "output_type": "stream",
          "text": [
            "[1] \"Tiempo de entrenamiento Post-Lasso (flexible): 1.54 mins\"\n"
          ]
        }
      ],
      "source": [
        "%%R\n",
        "start_time <- Sys.time()\n",
        "\n",
        "#Post-Lasso (flexible)\n",
        "fit.rlasso2L <- rlasso(formL, datause, post=TRUE)\n",
        "\n",
        "end_time <- Sys.time()\n",
        "sprintf('Tiempo de entrenamiento Post-Lasso (flexible): %.2f mins',difftime(end_time,start_time,units = 'mins'))"
      ]
    },
    {
      "cell_type": "markdown",
      "metadata": {
        "id": "-LWUskMWGBA6"
      },
      "source": [
        "ATENCIÓN: la siguiente celda podría tardar unos 14 minutos en ejecutarse"
      ]
    },
    {
      "cell_type": "code",
      "execution_count": null,
      "metadata": {
        "colab": {
          "background_save": true
        },
        "id": "0ge5xDVH46Yh",
        "outputId": "8829098a-d252-498d-c18d-6ccee1164ffe"
      },
      "outputs": [
        {
          "name": "stdout",
          "output_type": "stream",
          "text": [
            "[1] \"Tiempo de entrenamiento Lasso con VC (flexible): 7.31 mins\"\n"
          ]
        }
      ],
      "source": [
        "%%R\n",
        "start_time <- Sys.time()\n",
        "\n",
        "#Lasso con VC (flexible)\n",
        "fit.lassoL   <- cv.glmnet(fituseL$x, fituseL$y, family=\"gaussian\", alpha=1)\n",
        "\n",
        "end_time <- Sys.time()\n",
        "sprintf('Tiempo de entrenamiento Lasso con VC (flexible): %.2f mins',difftime(end_time,start_time,units = 'mins'))"
      ]
    },
    {
      "cell_type": "markdown",
      "metadata": {
        "id": "G3nDKmyOGEGs"
      },
      "source": [
        "ATENCIÓN: la siguiente celda podría tardar unos 2 minutos en ejecutarse"
      ]
    },
    {
      "cell_type": "code",
      "execution_count": null,
      "metadata": {
        "colab": {
          "background_save": true
        },
        "id": "F-8ZBJyLX0FD",
        "outputId": "3071d37e-7152-455f-9cf9-2d12ebf19311"
      },
      "outputs": [
        {
          "name": "stdout",
          "output_type": "stream",
          "text": [
            "[1] \"Tiempo de entrenamiento Ridge con VC (flexible): 1.22 mins\"\n"
          ]
        }
      ],
      "source": [
        "%%R\n",
        "start_time <- Sys.time()\n",
        "\n",
        "#Ridge con VC (flexible)\n",
        "fit.ridgeL   <- cv.glmnet(fituseL$x, fituseL$y, family=\"gaussian\", alpha=0)\n",
        "\n",
        "end_time <- Sys.time()\n",
        "sprintf('Tiempo de entrenamiento Ridge con VC (flexible): %.2f mins',difftime(end_time,start_time,units = 'mins'))"
      ]
    },
    {
      "cell_type": "markdown",
      "metadata": {
        "id": "uKir-5qdRaUd"
      },
      "source": [
        "ATENCIÓN: la siguiente celda podría tardar unos 13 minutos en ejecutarse"
      ]
    },
    {
      "cell_type": "code",
      "execution_count": null,
      "metadata": {
        "colab": {
          "background_save": true
        },
        "id": "5I96SpePA92v",
        "outputId": "62e0e0fd-1ba7-4d0c-c581-30005c0edc14"
      },
      "outputs": [
        {
          "name": "stdout",
          "output_type": "stream",
          "text": [
            "[1] \"Tiempo de entrenamiento Elastic Net con VC (flexible): 6.42 mins\"\n"
          ]
        }
      ],
      "source": [
        "%%R\n",
        "start_time <- Sys.time()\n",
        "\n",
        "#Elastic Net con VC (flexible)\n",
        "fit.elnetL   <- cv.glmnet(fituseL$x, fituseL$y, family=\"gaussian\", alpha=.5)\n",
        "\n",
        "end_time <- Sys.time()\n",
        "sprintf('Tiempo de entrenamiento Elastic Net con VC (flexible): %.2f mins',difftime(end_time,start_time,units = 'mins'))"
      ]
    },
    {
      "cell_type": "markdown",
      "metadata": {
        "id": "G0sFpzogRn0W"
      },
      "source": [
        "ATENCIÓN: la siguiente celda podría tardar unos 4 minutos en ejecutarse"
      ]
    },
    {
      "cell_type": "code",
      "execution_count": null,
      "metadata": {
        "colab": {
          "background_save": true
        },
        "id": "4gv5Td7aA95X",
        "outputId": "4b863f4b-3ee9-431b-fa77-2b0628927f9e"
      },
      "outputs": [
        {
          "name": "stdout",
          "output_type": "stream",
          "text": [
            "[1] \"Tiempo de entrenamiento Random Forest: 5.19 mins\"\n"
          ]
        }
      ],
      "source": [
        "%%R\n",
        "start_time <- Sys.time()\n",
        "\n",
        "#Random Forest\n",
        "fit.rf       <- randomForest(form, ntree=2000, nodesize=5, data=datause)\n",
        "\n",
        "end_time <- Sys.time()\n",
        "sprintf('Tiempo de entrenamiento Random Forest: %.2f mins',difftime(end_time,start_time,units = 'mins'))"
      ]
    },
    {
      "cell_type": "code",
      "execution_count": null,
      "metadata": {
        "colab": {
          "background_save": true
        },
        "id": "GvzhwJQ_A97n",
        "outputId": "d5908168-1a6f-4498-980c-e0b8a6ae2802"
      },
      "outputs": [
        {
          "name": "stderr",
          "output_type": "stream",
          "text": [
            "R[write to console]: OOB generally underestimates the optimal number of iterations although predictive performance is reasonably competitive. Using cv_folds>1 when calling gbm usually results in improved predictive performance.\n",
            "\n"
          ]
        },
        {
          "name": "stdout",
          "output_type": "stream",
          "text": [
            "[1] \"Tiempo de entrenamiento Boosting Trees: 5.08 s\"\n"
          ]
        }
      ],
      "source": [
        "%%R\n",
        "start_time <- Sys.time()\n",
        "\n",
        "#Boosting Trees\n",
        "fit.boost    <- gbm(form, data=datause, distribution= \"gaussian\", bag.fraction = .5, interaction.depth=2, n.trees=1000, shrinkage=.01)\n",
        "best.boost   <- gbm.perf(fit.boost, plot.it = FALSE)\n",
        "\n",
        "end_time <- Sys.time()\n",
        "sprintf('Tiempo de entrenamiento Boosting Trees: %.2f s',difftime(end_time,start_time,units = 'secs'))"
      ]
    },
    {
      "cell_type": "code",
      "execution_count": null,
      "metadata": {
        "colab": {
          "background_save": true
        },
        "id": "qHllFTdlA99k",
        "outputId": "6e761c71-6dda-4ee0-aca9-f87f00a1640e"
      },
      "outputs": [
        {
          "name": "stdout",
          "output_type": "stream",
          "text": [
            "[1] \"Tiempo de entrenamiento Árbol podado: 0.40 s\"\n"
          ]
        }
      ],
      "source": [
        "%%R\n",
        "start_time <- Sys.time()\n",
        "\n",
        "#Regression Trees (Árboles de Regresión, en este caso podados)\n",
        "fit.trees    <- rpart(form, datause)\n",
        "bestcp       <- trees$cptable[which.min(trees$cptable[,\"xerror\"]),\"CP\"]\n",
        "fit.prunedtree <- prune(fit.trees,cp=bestcp)\n",
        "\n",
        "end_time <- Sys.time()\n",
        "sprintf('Tiempo de entrenamiento Árbol podado: %.2f s',difftime(end_time,start_time,units = 'secs'))"
      ]
    },
    {
      "cell_type": "code",
      "execution_count": null,
      "metadata": {
        "colab": {
          "background_save": true
        },
        "id": "3tho6DFiBDW2",
        "outputId": "14b66e81-b401-4271-a182-3f7580548618"
      },
      "outputs": [
        {
          "name": "stdout",
          "output_type": "stream",
          "text": [
            "[1] \"Tiempo de entrenamiento Red Neuronal: 17.90 s\"\n"
          ]
        }
      ],
      "source": [
        "%%R\n",
        "start_time <- Sys.time()\n",
        "\n",
        "#Red Neuronal\n",
        "fit.nnet     <- nnet(form, datause, size=5,  maxit=1000, MaxNWts=100000, decay=0.01, linout = TRUE, trace=FALSE)   # ajuste simple de una red neuronal\n",
        "\n",
        "end_time <- Sys.time()\n",
        "sprintf('Tiempo de entrenamiento Red Neuronal: %.2f s',difftime(end_time,start_time,units = 'secs'))"
      ]
    },
    {
      "cell_type": "markdown",
      "metadata": {
        "id": "qRmrcHnDCJYe"
      },
      "source": [
        "Cálculo de las predicciones fuera de la muestra:\n"
      ]
    },
    {
      "cell_type": "code",
      "execution_count": null,
      "metadata": {
        "colab": {
          "background_save": true
        },
        "id": "xpsG3YoxX0FF"
      },
      "outputs": [],
      "source": [
        "%%R\n",
        "\n",
        "yhat.lm       <- predict(fit.lm,        newdata= dataout)\n",
        "yhat.lm2      <- predict(fit.lm2,       newdata= dataout)\n",
        "yhat.rlasso   <- predict(fit.rlasso,    newdata= dataout)\n",
        "yhat.rlasso2  <- predict(fit.rlasso2,   newdata= dataout)\n",
        "yhat.lasso    <- predict(fit.lasso,     newx   = fitout$x)\n",
        "yhat.ridge    <- predict(fit.ridge,     newx   = fitout$x)\n",
        "yhat.elnet    <- predict(fit.elnet,     newx   = fitout$x)\n",
        "yhat.rlassoL  <- predict(fit.rlassoL,   newdata= dataout)\n",
        "yhat.rlasso2L <- predict(fit.rlasso2L,  newdata= dataout)\n",
        "yhat.lassoL   <- predict(fit.lassoL,    newx   = fitoutL$x)\n",
        "yhat.ridgeL   <- predict(fit.ridgeL,    newx   = fitoutL$x)\n",
        "yhat.elnetL   <- predict(fit.elnetL,    newx   = fitoutL$x)\n",
        "yhat.rf       <- predict(fit.rf,        newdata= dataout)\n",
        "yhat.boost    <- predict(fit.boost,     newdata= dataout, n.trees=best.boost)\n",
        "yhat.pt       <- predict(fit.prunedtree,newdata= dataout)\n",
        "yhat.nnet     <- predict(fit.nnet,      newdata= dataout)"
      ]
    },
    {
      "cell_type": "markdown",
      "metadata": {
        "id": "_TJCJXihDqp2"
      },
      "source": [
        "Cálculo del EMC para cada modelo:"
      ]
    },
    {
      "cell_type": "code",
      "execution_count": null,
      "metadata": {
        "colab": {
          "background_save": true
        },
        "id": "BzPqQDYEik78"
      },
      "outputs": [],
      "source": [
        "%%R\n",
        "y.test       = dataout$lwage\n",
        "MSE.lm       = summary(lm((y.test-yhat.lm)^2~1))$coef[1:2]\n",
        "MSE.lm2      = summary(lm((y.test-yhat.lm2)^2~1))$coef[1:2]\n",
        "MSE.rlasso   = summary(lm((y.test-yhat.rlasso)^2~1))$coef[1:2]\n",
        "MSE.rlasso2  = summary(lm((y.test-yhat.rlasso2)^2~1))$coef[1:2]\n",
        "MSE.lasso    = summary(lm((y.test-yhat.lasso)^2~1))$coef[1:2]\n",
        "MSE.ridge    = summary(lm((y.test-yhat.ridge)^2~1))$coef[1:2]\n",
        "MSE.elnet    = summary(lm((y.test-yhat.elnet)^2~1))$coef[1:2]\n",
        "MSE.rlassoL  = summary(lm((y.test-yhat.rlassoL)^2~1))$coef[1:2]\n",
        "MSE.rlasso2L = summary(lm((y.test-yhat.rlasso2L)^2~1))$coef[1:2]\n",
        "MSE.lassoL   = summary(lm((y.test-yhat.lassoL)^2~1))$coef[1:2]\n",
        "MSE.ridgeL   = summary(lm((y.test-yhat.ridgeL)^2~1))$coef[1:2]\n",
        "MSE.elnetL   = summary(lm((y.test-yhat.elnetL)^2~1))$coef[1:2]\n",
        "MSE.rf       = summary(lm((y.test-yhat.rf)^2~1))$coef[1:2]\n",
        "MSE.boost    = summary(lm((y.test-yhat.boost)^2~1))$coef[1:2]\n",
        "MSE.pt       = summary(lm((y.test-yhat.pt)^2~1))$coef[1:2]\n",
        "MSE.nnet     = summary(lm((y.test-yhat.nnet)^2~1))$coef[1:2]\t"
      ]
    },
    {
      "cell_type": "markdown",
      "metadata": {
        "id": "QCg8JCwjDvDm"
      },
      "source": [
        "Guardar los resultados en una tabla:"
      ]
    },
    {
      "cell_type": "code",
      "execution_count": null,
      "metadata": {
        "colab": {
          "background_save": true
        },
        "id": "rt6z4qdmik_N"
      },
      "outputs": [],
      "source": [
        "%%R\n",
        "table          <- matrix(0, 16, 3)\n",
        "table[1,1:2]   <- MSE.lm\n",
        "table[2,1:2]   <- MSE.lm2\n",
        "table[3,1:2]   <- MSE.rlasso\n",
        "table[4,1:2]   <- MSE.rlassoL\n",
        "table[5,1:2]   <- MSE.rlasso2\n",
        "table[6,1:2]   <- MSE.rlasso2L\n",
        "table[7,1:2]   <- MSE.lasso\n",
        "table[8,1:2]   <- MSE.lassoL\n",
        "table[9,1:2]   <- MSE.ridge\n",
        "table[10,1:2]  <- MSE.ridgeL\n",
        "table[11,1:2]  <- MSE.elnet\n",
        "table[12,1:2]  <- MSE.elnetL\n",
        "table[13,1:2]  <- MSE.rf\n",
        "table[14,1:2]  <- MSE.boost\n",
        "table[15,1:2]  <- MSE.pt\n",
        "table[16,1:2]  <- MSE.nnet\n",
        "\n",
        "table[1,3]   <- 1-MSE.lm[1]/var(y.test)\n",
        "table[2,3]   <- 1-MSE.lm2[1]/var(y.test)\n",
        "table[3,3]   <- 1-MSE.rlasso[1]/var(y.test)\n",
        "table[4,3]   <- 1-MSE.rlassoL[1]/var(y.test)\n",
        "table[5,3]   <- 1-MSE.rlasso2[1]/var(y.test)\n",
        "table[6,3]   <- 1-MSE.rlasso2L[1]/var(y.test)\n",
        "table[7,3]   <- 1-MSE.lasso[1]/var(y.test)\n",
        "table[8,3]   <- 1-MSE.lassoL[1]/var(y.test)\n",
        "table[9,3]   <- 1-MSE.ridge[1]/var(y.test)\n",
        "table[10,3]  <- 1-MSE.ridgeL[1]/var(y.test)\n",
        "table[11,3]  <- 1-MSE.elnet[1]/var(y.test)\n",
        "table[12,3]  <- 1-MSE.elnetL[1]/var(y.test)\n",
        "table[13,3]  <- 1-MSE.rf[1]/var(y.test)\n",
        "table[14,3]  <- 1-MSE.boost[1]/var(y.test)\n",
        "table[15,3]  <- 1-MSE.pt[1]/var(y.test)\n",
        "table[16,3]  <- 1-MSE.nnet[1]/var(y.test)\n",
        "\n",
        "\n",
        "# Asignar nombres a columnas y filas\n",
        "colnames(table)<- c(\"EMC\", \"Error Est. del EMC\", \"R^2\")\n",
        "rownames(table)<- c(\"Mínimos Cuadrados\", \"Mínimos Cuadrados (flexible)\", \"Lasso\", \"Lasso (flexible)\", \"Post-Lasso\",  \"Post-Lasso (flexible)\", \n",
        "                    \"Lasso con VC\", \"Lasso con VC (flexible)\", \"Ridge con VC\", \"Ridge con VC (flexible)\", \"Elastic Net con VC\", \"Elastic Net con VC (Flexible)\",  \n",
        "                    \"Random Forest\",\"Boosted Trees\", \"Árbol podado\", \"Red Neuronal\")"
      ]
    },
    {
      "cell_type": "markdown",
      "metadata": {
        "id": "s7oppAgai0fW"
      },
      "source": [
        "### Agregación de predictores"
      ]
    },
    {
      "cell_type": "code",
      "execution_count": null,
      "metadata": {
        "colab": {
          "background_save": true
        },
        "id": "AQLx1GYgilFv"
      },
      "outputs": [],
      "source": [
        "%%R\n",
        "# Regresión de la variable de resultado con los predictores de cada método: OLS\n",
        "ens  <- lm(y.test~ yhat.lm+ yhat.rlasso+ yhat.elnet + yhat.rf+ yhat.pt +yhat.boost)\n",
        "# # Regresión de la variable de resultado con los predictores de cada método: Lasso, post=FALSE\n",
        "ens2 <- rlasso(y.test~ yhat.lm+ yhat.rlasso+ yhat.elnet + yhat.rf+ yhat.pt + yhat.boost, post=FALSE)\n",
        "\n",
        "# EMC para aprendizaje agregado\n",
        "MSE.ens1  <- summary(lm((y.test-ens$fitted.values)^2~1))$coef[1:2]\n",
        "MSE.ens2  <- summary(lm((y.test-predict(ens2))^2~1))$coef[1:2]\t"
      ]
    },
    {
      "cell_type": "code",
      "execution_count": null,
      "metadata": {
        "colab": {
          "background_save": true
        },
        "id": "0QTzfkdHilJl"
      },
      "outputs": [],
      "source": [
        "%%R\n",
        "# Tabla de resultados de aprendizaje agregado (\"ensemble learning\")\n",
        "table2<- matrix(0, 7, 2)\n",
        "\n",
        "table2[1,1]  <- ens$coefficients[1]\n",
        "table2[2,1]  <- ens$coefficients[2]\n",
        "table2[3,1]  <- ens$coefficients[3]\n",
        "table2[4,1]  <- ens$coefficients[4]\n",
        "table2[5,1]  <- ens$coefficients[5]\n",
        "table2[6,1]  <- ens$coefficients[6]\n",
        "table2[7,1]  <- ens$coefficients[7]\n",
        "\n",
        "\n",
        "table2[1,2]  <- ens2$coefficients[1]\n",
        "table2[2,2]  <- ens2$coefficients[2]\n",
        "table2[3,2]  <- ens2$coefficients[3]\n",
        "table2[4,2]  <- ens2$coefficients[4]\n",
        "table2[5,2]  <- ens2$coefficients[5]\n",
        "table2[6,2]  <- ens2$coefficients[6]\n",
        "table2[7,2]  <- ens2$coefficients[7]\n",
        "\n",
        "# Asignar nombres a columnas y filas\n",
        "colnames(table2)<- c(\"Coeficiente (OLS)\", \"Coeficiente (Lasso)\")\n",
        "rownames(table2)<- c(\"Constante\",\"OLS-simple\",\"Lasso\",\"Elastic Net con VC\", \"Random Forest\", \"Árbol podado\",\"Boosted Trees\")"
      ]
    },
    {
      "cell_type": "markdown",
      "metadata": {
        "id": "rxRTtar8X0FF"
      },
      "source": [
        "## Resultados"
      ]
    },
    {
      "cell_type": "code",
      "execution_count": null,
      "metadata": {
        "colab": {
          "background_save": true
        },
        "id": "MEj17qS-ilOV",
        "outputId": "16ffe3c7-5b5d-46ab-c561-57d5d9f42348"
      },
      "outputs": [
        {
          "name": "stdout",
          "output_type": "stream",
          "text": [
            "                                EMC Error Est. del EMC     R^2\n",
            "Mínimos Cuadrados             0.293             0.0243  0.3027\n",
            "Mínimos Cuadrados (flexible)  1.159             0.2382 -1.7547\n",
            "Lasso                         0.301             0.0241  0.2844\n",
            "Lasso (flexible)              0.299             0.0240  0.2900\n",
            "Post-Lasso                    0.304             0.0242  0.2780\n",
            "Post-Lasso (flexible)         0.305             0.0240  0.2753\n",
            "Lasso con VC                  0.306             0.0241  0.2717\n",
            "Lasso con VC (flexible)       0.308             0.0240  0.2680\n",
            "Ridge con VC                  0.303             0.0241  0.2793\n",
            "Ridge con VC (flexible)       0.405             0.0241  0.0381\n",
            "Elastic Net con VC            0.307             0.0241  0.2693\n",
            "Elastic Net con VC (Flexible) 0.309             0.0240  0.2661\n",
            "Random Forest                 0.292             0.0242  0.3065\n",
            "Boosted Trees                 0.296             0.0242  0.2967\n",
            "Árbol podado                  0.340             0.0248  0.1915\n",
            "Red Neuronal                  0.392             0.0319  0.0673\n",
            "                   Coeficiente (OLS) Coeficiente (Lasso)\n",
            "Constante                    -0.0198             -0.0979\n",
            "OLS-simple                    0.4708              0.4199\n",
            "Lasso                         0.0751              0.0000\n",
            "Elastic Net con VC           -0.2545              0.0000\n",
            "Random Forest                 0.5250              0.5142\n",
            "Árbol podado                 -0.0490              0.0000\n",
            "Boosted Trees                 0.2411              0.1029\n"
          ]
        }
      ],
      "source": [
        "%%R\n",
        "# Mostrar resultados\n",
        "print(table, digits=3)\n",
        "print(table2, digits=3)"
      ]
    }
  ],
  "metadata": {
    "colab": {
      "collapsed_sections": [],
      "provenance": [],
      "include_colab_link": true
    },
    "hide_input": false,
    "kernelspec": {
      "display_name": "Python 3",
      "name": "python3"
    },
    "toc": {
      "base_numbering": 1,
      "nav_menu": {},
      "number_sections": true,
      "sideBar": true,
      "skip_h1_title": false,
      "title_cell": "Table of Contents",
      "title_sidebar": "Contents",
      "toc_cell": true,
      "toc_position": {},
      "toc_section_display": true,
      "toc_window_display": false
    },
    "varInspector": {
      "cols": {
        "lenName": 16,
        "lenType": 16,
        "lenVar": 40
      },
      "kernels_config": {
        "python": {
          "delete_cmd_postfix": "",
          "delete_cmd_prefix": "del ",
          "library": "var_list.py",
          "varRefreshCmd": "print(var_dic_list())"
        },
        "r": {
          "delete_cmd_postfix": ") ",
          "delete_cmd_prefix": "rm(",
          "library": "var_list.r",
          "varRefreshCmd": "cat(var_dic_list()) "
        }
      },
      "types_to_exclude": [
        "module",
        "function",
        "builtin_function_or_method",
        "instance",
        "_Feature"
      ],
      "window_display": false
    }
  },
  "nbformat": 4,
  "nbformat_minor": 0
}